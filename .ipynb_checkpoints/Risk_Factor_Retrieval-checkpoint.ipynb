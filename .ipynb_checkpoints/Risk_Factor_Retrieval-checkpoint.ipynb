{
 "cells": [
  {
   "cell_type": "code",
   "execution_count": null,
   "id": "34ea5127",
   "metadata": {},
   "outputs": [],
   "source": [
    "import numpy as np\n",
    "import json\n",
    "import pandas as pd\n",
    "from numpy.linalg import norm\n",
    "from scipy.stats import zscore\n",
    "from sklearn.metrics.pairwise import cosine_similarity\n",
    "import plotly.express as px\n",
    "import ast\n",
    "import voyageai\n",
    "import time\n",
    "from rouge import Rouge\n",
    "import plotly.graph_objects as go\n",
    "from matplotlib import pyplot as plt\n",
    "from matplotlib_venn import venn3\n",
    "from plotly.subplots import make_subplots\n",
    "import math\n",
    "from sentence_transformers import CrossEncoder\n",
    "vo = voyageai.Client()\n",
    "ce = CrossEncoder('BAAI/bge-reranker-base')"
   ]
  },
  {
   "cell_type": "code",
   "execution_count": null,
   "id": "96901edb-339f-4fb6-a13e-d1e6f3ddc646",
   "metadata": {},
   "outputs": [],
   "source": [
    "def embed(text, vo):\n",
    "    # Voyage AI usage guide - https://docs.voyageai.com/docs/api-key-and-installation\n",
    "    result = vo.embed(text, model=\"voyage-2\", input_type=\"document\")\n",
    "    return result.embeddings[0]"
   ]
  },
  {
   "cell_type": "code",
   "execution_count": null,
   "id": "6d8770a9-bd77-48e3-9a55-dd7963e1deed",
   "metadata": {},
   "outputs": [],
   "source": [
    "# Risk Description\n",
    "inp = \"\"\"Our success depends in large part upon the strength of our skilled engineering professionals \n",
    "        and management team. If we fail to attract, retain, train and optimally utilize these personnel, \n",
    "        our business may be unable to grow and our revenue and profitability could decline. \n",
    "        Further, increases in wages and other employee benefit expenses for such personnel could prevent \n",
    "        us from sustaining our competitive advantage.\"\"\"\n",
    "inp = inp.replace(\"\\n\", \"\")\n",
    "\n",
    "vec = embed(inp, vo)"
   ]
  },
  {
   "cell_type": "code",
   "execution_count": null,
   "id": "fc6f9e30-2e82-42ab-b251-a1920b6d87b3",
   "metadata": {},
   "outputs": [],
   "source": [
    "coord = pd.read_csv('Input/Risk_Coords_Voyage.csv')\n",
    "matrx = pd.read_csv('Input/Finetuned_Risk_Matrix.csv')\n",
    "fname = pd.read_csv('Input/Filenames.csv')\n",
    "\n",
    "r1 = pd.read_csv('Input/Risk_Factors_Voyage_1.csv')\n",
    "r2 = pd.read_csv('Input/Risk_Factors_Voyage_2.csv')\n",
    "r3 = pd.read_csv('Input/Risk_Factors_Voyage_3.csv')\n",
    "risks = pd.concat([r1, r2, r3])\n",
    "risks.reset_index(drop=True, inplace=True)"
   ]
  },
  {
   "cell_type": "code",
   "execution_count": null,
   "id": "e9a0385d-cb46-43b6-ac20-00e8f1a13595",
   "metadata": {},
   "outputs": [],
   "source": [
    "# Calculates the closeness of the input risk statement to each Risk Category\n",
    "\n",
    "def cos_sim(npy, inp):\n",
    "    df = inp.copy()\n",
    "    df['Embedding'] = df['Embedding'].str[1:-1].str.split(\",\").apply(lambda x: [float(string) for string in x]).apply(np.array)\n",
    "    \n",
    "    # Calculate cosine similarity for each row\n",
    "    similarities = []\n",
    "    for index, row in df.iterrows():\n",
    "        similarity = cosine_similarity([npy], [row['Embedding']])\n",
    "        similarities.append(similarity[0][0])\n",
    "\n",
    "    df['Similarity'] = similarities\n",
    "    df = df.sort_values(by= 'Similarity', ascending = False, inplace=False).reset_index(drop = True)\n",
    "    return df"
   ]
  },
  {
   "cell_type": "code",
   "execution_count": null,
   "id": "39086c42-567b-4314-99a0-4e2d13a366cf",
   "metadata": {},
   "outputs": [],
   "source": [
    "prof = cos_sim(vec, coord)\n",
    "\n",
    "fig = px.line_polar(prof, r=prof['Similarity'], theta=prof['Risk Name'], line_close=True)\n",
    "\n",
    "fig.update_layout(\n",
    "    template=None,\n",
    "    polar = dict(\n",
    "        radialaxis = dict(range=[prof['Similarity'].min() - 0.02, prof['Similarity'].max() + 0.02], ticks='')\n",
    "    )\n",
    ")\n",
    "fig.show()"
   ]
  },
  {
   "cell_type": "code",
   "execution_count": null,
   "id": "ce695afc-0bba-42fa-8edc-d6c98a7a1d29",
   "metadata": {},
   "outputs": [],
   "source": [
    "# Matrix Search Retrieval Algorithm\n",
    "\n",
    "def matrix_search (prof, risk, stmt, fname):\n",
    "    df = prof[['Risk Name', 'Similarity']].copy()\n",
    "    df = df.transpose()\n",
    "    df.columns = df.iloc[0]\n",
    "    df = df.drop(df.index[0])\n",
    "    mrsk = risk.copy()\n",
    "    r_cols = [col for col in mrsk.columns if col.endswith('Risk')]\n",
    "    for col in mrsk.filter(like = 'Risk').columns:\n",
    "        val = df.at[df.index[0], col]\n",
    "        mrsk[col] *= val\n",
    "    mrsk['Weighted Similarity'] = mrsk[[col for col in mrsk.columns if col.endswith('Risk')]].max(axis=1)\n",
    "    mrsk = mrsk.sort_values(by= 'Weighted Similarity', ascending = False, inplace=False).reset_index(drop = True)\n",
    "    mrsk = mrsk[['Company', 'Year', 'Unique ID', 'Point', 'Info', 'Weighted Similarity']]\n",
    "    resl = pd.merge(mrsk, fname, on = ['Company', 'Year', 'Unique ID'], how = 'left')\n",
    "    return resl"
   ]
  },
  {
   "cell_type": "code",
   "execution_count": null,
   "id": "4c090a8f-3293-4a68-a82b-89ddc1d9f0ec",
   "metadata": {},
   "outputs": [],
   "source": [
    "start_mat = time.time()\n",
    "rsk = matrix_search(prof, matrx, inp, fname)[:10]\n",
    "end_mat = time.time()\n",
    "mat_time = end_mat - start_mat\n",
    "rsk.head()"
   ]
  },
  {
   "cell_type": "code",
   "execution_count": null,
   "id": "dbd50aee-5a4f-4bc6-9774-e2abca4f841b",
   "metadata": {},
   "outputs": [],
   "source": [
    "# Complete Search Retrieval Algorithm (Takes longer to execute)\n",
    "\n",
    "def complete_search(npy, inp, fname):\n",
    "    df = inp.copy()\n",
    "    # Remove brackets and split the string by spaces, then convert to float\n",
    "    df['Voyage_Embedding'] = df['Voyage_Embedding'].str[1:-1].str.split(\",\").apply(lambda x: [float(string) for string in x]).apply(np.array)\n",
    "    \n",
    "    # Calculate cosine similarity for each row\n",
    "    similarities = []\n",
    "    for index, row in df.iterrows():\n",
    "        similarity = cosine_similarity([npy], [row['Voyage_Embedding']])\n",
    "        similarities.append(similarity[0][0])\n",
    "    \n",
    "    # Add similarity values to DataFrame\n",
    "    df['Cosine Similarity'] = similarities\n",
    "    df = df.sort_values(by= 'Cosine Similarity', ascending = False, inplace=False).reset_index(drop = True)\n",
    "    df = df[['Company', 'Year', 'Unique ID', 'Point', 'Info', 'Cosine Similarity']]\n",
    "    resl = pd.merge(df, fname, on = ['Company', 'Year', 'Unique ID'], how = 'left')\n",
    "    return resl"
   ]
  },
  {
   "cell_type": "code",
   "execution_count": null,
   "id": "68840c17-8ff2-4de3-802e-79bc608a9455",
   "metadata": {},
   "outputs": [],
   "source": [
    "start_cmp = time.time()\n",
    "sim = complete_search(vec, risks, fname)[:10]\n",
    "end_cmp = time.time()\n",
    "cmp_time = end_cmp - start_cmp\n",
    "sim.head()"
   ]
  },
  {
   "cell_type": "code",
   "execution_count": null,
   "id": "4725ea4b-6292-48ef-98bb-85dc9beeb001",
   "metadata": {},
   "outputs": [],
   "source": [
    "# Hybrid Search Retrieval Algorithm\n",
    "\n",
    "def hybrid_search(prof, matrx, inp, vec, risks, fname):\n",
    "    hyb = 0\n",
    "    mat = matrix_search(prof, matrx, inp, fname)\n",
    "    npy = mat[:500]\n",
    "    mdrsk = pd.merge(risks, npy[['Unique ID', 'Point']], on = ['Unique ID', 'Point'], how = 'inner')\n",
    "    hyb = complete_search(vec, mdrsk, fname)\n",
    "    return hyb"
   ]
  },
  {
   "cell_type": "code",
   "execution_count": null,
   "id": "12b99dd1-16ca-4764-91d9-1f033464c256",
   "metadata": {},
   "outputs": [],
   "source": [
    "start_hyb = time.time()\n",
    "res = hybrid_search(prof, matrx, inp, vec, risks, fname)[:10]\n",
    "end_hyb = time.time()\n",
    "hyb_time = end_hyb - start_hyb\n",
    "res.head()"
   ]
  },
  {
   "cell_type": "code",
   "execution_count": null,
   "id": "17cb097f-b011-4069-9962-df4312d93f92",
   "metadata": {},
   "outputs": [],
   "source": [
    "rouge = Rouge()\n",
    "\n",
    "# Rouge L Metric (https://en.wikipedia.org/wiki/ROUGE_(metric))\n",
    "# Calculating Rouge-L Metric between each of the selected Risk Factors and the Risk Statement\n",
    "def calc_rouge(reference, hypothesis):\n",
    "    scores = rouge.get_scores(hypothesis, reference)\n",
    "    dfres = scores[0]['rouge-l']['f'] \n",
    "    return dfres "
   ]
  },
  {
   "cell_type": "code",
   "execution_count": null,
   "id": "84b77279-0e3b-4ec4-a5c0-2d36375fe2b7",
   "metadata": {},
   "outputs": [],
   "source": [
    "rog = pd.DataFrame()\n",
    "rog['Matrix Search'] = rsk['Info'].apply(lambda x: calc_rouge(inp, x))\n",
    "\n",
    "rog['Complete Search'] = sim['Info'].apply(lambda x: calc_rouge(inp, x))\n",
    "\n",
    "rog['Hybrid Search'] = res['Info'].apply(lambda x: calc_rouge(inp, x))"
   ]
  },
  {
   "cell_type": "code",
   "execution_count": null,
   "id": "cb935102-3d57-4f9a-8ec3-df230af7a973",
   "metadata": {},
   "outputs": [],
   "source": [
    "fig = go.Figure()\n",
    "fig.add_trace(go.Scatter(x=rog.index, y=rog['Matrix Search'], mode='lines', name='Matrix Search', line=dict(color='blue')))\n",
    "\n",
    "fig.add_trace(go.Scatter(x=rog.index, y=rog['Complete Search'], mode='lines', name='Complete Search', line=dict(color='red')))\n",
    "\n",
    "fig.add_trace(go.Scatter(x=rog.index, y=rog['Hybrid Search'], mode='lines', name='Hybrid Search', line=dict(color='green')))\n",
    "\n",
    "fig.update_layout(title='ROUGE-L Scores Comparison',\n",
    "                  xaxis_title='Risk Factor Closeness Rank',\n",
    "                  yaxis_title='ROUGE-L Score')\n",
    "\n",
    "fig.show()"
   ]
  },
  {
   "cell_type": "code",
   "execution_count": null,
   "id": "f3185bb8-89f2-4ffe-98ab-e5e7d443a3e6",
   "metadata": {},
   "outputs": [],
   "source": [
    "print (\"Matrix Search Duration : \", mat_time, \"s\")\n",
    "print (\"Complete Search Duration : \", cmp_time, \"s\")\n",
    "print (\"Hybrid Search Duration : \", hyb_time, \"s\")"
   ]
  },
  {
   "cell_type": "code",
   "execution_count": null,
   "id": "768e85ab-49f7-45e6-bb9f-bbd7dacd5e78",
   "metadata": {},
   "outputs": [],
   "source": [
    "rsk_set = set(rsk['Unique ID'] + '_' + rsk['Point'].astype(str))\n",
    "sim_set = set(sim['Unique ID'] + '_' + sim['Point'].astype(str))\n",
    "res_set = set(res['Unique ID'] + '_' + res['Point'].astype(str))\n",
    "\n",
    "# Find intersections\n",
    "int_2_sets = {\n",
    "    'rsk_sim': rsk_set & sim_set,\n",
    "    'rsk_res': rsk_set & res_set,\n",
    "    'sim_res': sim_set & res_set\n",
    "}\n",
    "int_3_sets = rsk_set & sim_set & res_set\n",
    "\n",
    "# Create Venn diagram\n",
    "venn3(subsets=(len(rsk_set - sim_set - res_set), len(sim_set - rsk_set - res_set),\n",
    "               len(sim_set & rsk_set - res_set), len(res_set - rsk_set - sim_set),\n",
    "               len(res_set & rsk_set - sim_set), len(res_set & sim_set - rsk_set),\n",
    "               len(int_3_sets)),\n",
    "      set_labels=('Matrix Search', 'Complete Search', 'Hybrid Search'))\n",
    "\n",
    "plt.title(\"Venn Diagram of Risk Factors\")\n",
    "plt.show()"
   ]
  },
  {
   "cell_type": "code",
   "execution_count": null,
   "id": "dbc2d506-c5fa-4944-9e72-3067ed95b857",
   "metadata": {},
   "outputs": [],
   "source": [
    "#print(\"Matrix Search Result top 10 Risk Factors\")\n",
    "#rsk.head(10)"
   ]
  },
  {
   "cell_type": "code",
   "execution_count": null,
   "id": "0eb9c220-1250-4f84-a0ae-2a0e8158935e",
   "metadata": {},
   "outputs": [],
   "source": [
    "#print(\"Complete Search Result top 10 Risk Factors\")\n",
    "#sim.head(10)"
   ]
  },
  {
   "cell_type": "code",
   "execution_count": null,
   "id": "d3ff71dc-c8fd-4489-9953-e8f3c24cb9e0",
   "metadata": {},
   "outputs": [],
   "source": [
    "print(\"Hybrid Search Result top 10 Risk Factors\")\n",
    "res.head(10)"
   ]
  },
  {
   "cell_type": "code",
   "execution_count": null,
   "id": "1ba8c00c-5196-4403-9912-a876f682e454",
   "metadata": {},
   "outputs": [],
   "source": [
    "# Prepare the pairs for similarity calculation\n",
    "pairs = [(inp, info) for info in res['Info']]\n",
    "\n",
    "# Calculate the similarity scores\n",
    "similarity_scores = ce.predict(pairs)\n",
    "\n",
    "# Add the similarity scores to the DataFrame\n",
    "res['Cross-Encoder Similarity'] = similarity_scores\n"
   ]
  },
  {
   "cell_type": "code",
   "execution_count": null,
   "id": "de0c064a-fdb1-4ead-b270-4a701b36560a",
   "metadata": {},
   "outputs": [],
   "source": [
    "print(\"Top 3 Risk Factors\")\n",
    "res.sort_values('Cross-Encoder Similarity', ascending = False).head(3)"
   ]
  }
 ],
 "metadata": {
  "kernelspec": {
   "display_name": "Python 3 (ipykernel)",
   "language": "python",
   "name": "python3"
  },
  "language_info": {
   "codemirror_mode": {
    "name": "ipython",
    "version": 3
   },
   "file_extension": ".py",
   "mimetype": "text/x-python",
   "name": "python",
   "nbconvert_exporter": "python",
   "pygments_lexer": "ipython3",
   "version": "3.11.0"
  }
 },
 "nbformat": 4,
 "nbformat_minor": 5
}
