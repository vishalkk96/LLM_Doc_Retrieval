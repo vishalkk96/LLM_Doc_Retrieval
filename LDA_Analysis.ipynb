{
 "cells": [
  {
   "cell_type": "code",
   "execution_count": 1,
   "metadata": {},
   "outputs": [],
   "source": [
    "import numpy as np\n",
    "import pandas as pd\n",
    "from matplotlib import pyplot as plt"
   ]
  },
  {
   "cell_type": "code",
   "execution_count": 2,
   "metadata": {},
   "outputs": [],
   "source": [
    "r1 = pd.read_csv('Input/Risk_Factors_Voyage_1.csv')\n",
    "r2 = pd.read_csv('Input/Risk_Factors_Voyage_2.csv')\n",
    "r3 = pd.read_csv('Input/Risk_Factors_Voyage_3.csv')\n",
    "risks = pd.concat([r1, r2, r3])\n",
    "risks.reset_index(drop=True, inplace=True)"
   ]
  },
  {
   "cell_type": "code",
   "execution_count": 3,
   "metadata": {},
   "outputs": [
    {
     "ename": "KeyError",
     "evalue": "'LDA'",
     "output_type": "error",
     "traceback": [
      "\u001b[1;31m---------------------------------------------------------------------------\u001b[0m",
      "\u001b[1;31mKeyError\u001b[0m                                  Traceback (most recent call last)",
      "File \u001b[1;32mc:\\Users\\visha\\anaconda3\\lib\\site-packages\\pandas\\core\\indexes\\base.py:3621\u001b[0m, in \u001b[0;36mIndex.get_loc\u001b[1;34m(self, key, method, tolerance)\u001b[0m\n\u001b[0;32m   3620\u001b[0m \u001b[38;5;28;01mtry\u001b[39;00m:\n\u001b[1;32m-> 3621\u001b[0m     \u001b[38;5;28;01mreturn\u001b[39;00m \u001b[38;5;28;43mself\u001b[39;49m\u001b[38;5;241;43m.\u001b[39;49m\u001b[43m_engine\u001b[49m\u001b[38;5;241;43m.\u001b[39;49m\u001b[43mget_loc\u001b[49m\u001b[43m(\u001b[49m\u001b[43mcasted_key\u001b[49m\u001b[43m)\u001b[49m\n\u001b[0;32m   3622\u001b[0m \u001b[38;5;28;01mexcept\u001b[39;00m \u001b[38;5;167;01mKeyError\u001b[39;00m \u001b[38;5;28;01mas\u001b[39;00m err:\n",
      "File \u001b[1;32mc:\\Users\\visha\\anaconda3\\lib\\site-packages\\pandas\\_libs\\index.pyx:136\u001b[0m, in \u001b[0;36mpandas._libs.index.IndexEngine.get_loc\u001b[1;34m()\u001b[0m\n",
      "File \u001b[1;32mc:\\Users\\visha\\anaconda3\\lib\\site-packages\\pandas\\_libs\\index.pyx:163\u001b[0m, in \u001b[0;36mpandas._libs.index.IndexEngine.get_loc\u001b[1;34m()\u001b[0m\n",
      "File \u001b[1;32mpandas\\_libs\\hashtable_class_helper.pxi:5198\u001b[0m, in \u001b[0;36mpandas._libs.hashtable.PyObjectHashTable.get_item\u001b[1;34m()\u001b[0m\n",
      "File \u001b[1;32mpandas\\_libs\\hashtable_class_helper.pxi:5206\u001b[0m, in \u001b[0;36mpandas._libs.hashtable.PyObjectHashTable.get_item\u001b[1;34m()\u001b[0m\n",
      "\u001b[1;31mKeyError\u001b[0m: 'LDA'",
      "\nThe above exception was the direct cause of the following exception:\n",
      "\u001b[1;31mKeyError\u001b[0m                                  Traceback (most recent call last)",
      "Input \u001b[1;32mIn [3]\u001b[0m, in \u001b[0;36m<cell line: 2>\u001b[1;34m()\u001b[0m\n\u001b[0;32m      1\u001b[0m \u001b[38;5;66;03m# Calculate the number of topics per row\u001b[39;00m\n\u001b[1;32m----> 2\u001b[0m risks[\u001b[38;5;124m'\u001b[39m\u001b[38;5;124mTopics\u001b[39m\u001b[38;5;124m'\u001b[39m] \u001b[38;5;241m=\u001b[39m \u001b[43mrisks\u001b[49m\u001b[43m[\u001b[49m\u001b[38;5;124;43m'\u001b[39;49m\u001b[38;5;124;43mLDA\u001b[39;49m\u001b[38;5;124;43m'\u001b[39;49m\u001b[43m]\u001b[49m\u001b[38;5;241m.\u001b[39mapply(\u001b[38;5;28;01mlambda\u001b[39;00m x: \u001b[38;5;28mlen\u001b[39m(\u001b[38;5;28mset\u001b[39m(x\u001b[38;5;241m.\u001b[39msplit(\u001b[38;5;124m\"\u001b[39m\u001b[38;5;124m, \u001b[39m\u001b[38;5;124m\"\u001b[39m))))\n\u001b[0;32m      4\u001b[0m \u001b[38;5;66;03m# Count total unique topics\u001b[39;00m\n\u001b[0;32m      5\u001b[0m all_topics \u001b[38;5;241m=\u001b[39m \u001b[38;5;28mset\u001b[39m()\n",
      "File \u001b[1;32mc:\\Users\\visha\\anaconda3\\lib\\site-packages\\pandas\\core\\frame.py:3505\u001b[0m, in \u001b[0;36mDataFrame.__getitem__\u001b[1;34m(self, key)\u001b[0m\n\u001b[0;32m   3503\u001b[0m \u001b[38;5;28;01mif\u001b[39;00m \u001b[38;5;28mself\u001b[39m\u001b[38;5;241m.\u001b[39mcolumns\u001b[38;5;241m.\u001b[39mnlevels \u001b[38;5;241m>\u001b[39m \u001b[38;5;241m1\u001b[39m:\n\u001b[0;32m   3504\u001b[0m     \u001b[38;5;28;01mreturn\u001b[39;00m \u001b[38;5;28mself\u001b[39m\u001b[38;5;241m.\u001b[39m_getitem_multilevel(key)\n\u001b[1;32m-> 3505\u001b[0m indexer \u001b[38;5;241m=\u001b[39m \u001b[38;5;28;43mself\u001b[39;49m\u001b[38;5;241;43m.\u001b[39;49m\u001b[43mcolumns\u001b[49m\u001b[38;5;241;43m.\u001b[39;49m\u001b[43mget_loc\u001b[49m\u001b[43m(\u001b[49m\u001b[43mkey\u001b[49m\u001b[43m)\u001b[49m\n\u001b[0;32m   3506\u001b[0m \u001b[38;5;28;01mif\u001b[39;00m is_integer(indexer):\n\u001b[0;32m   3507\u001b[0m     indexer \u001b[38;5;241m=\u001b[39m [indexer]\n",
      "File \u001b[1;32mc:\\Users\\visha\\anaconda3\\lib\\site-packages\\pandas\\core\\indexes\\base.py:3623\u001b[0m, in \u001b[0;36mIndex.get_loc\u001b[1;34m(self, key, method, tolerance)\u001b[0m\n\u001b[0;32m   3621\u001b[0m     \u001b[38;5;28;01mreturn\u001b[39;00m \u001b[38;5;28mself\u001b[39m\u001b[38;5;241m.\u001b[39m_engine\u001b[38;5;241m.\u001b[39mget_loc(casted_key)\n\u001b[0;32m   3622\u001b[0m \u001b[38;5;28;01mexcept\u001b[39;00m \u001b[38;5;167;01mKeyError\u001b[39;00m \u001b[38;5;28;01mas\u001b[39;00m err:\n\u001b[1;32m-> 3623\u001b[0m     \u001b[38;5;28;01mraise\u001b[39;00m \u001b[38;5;167;01mKeyError\u001b[39;00m(key) \u001b[38;5;28;01mfrom\u001b[39;00m \u001b[38;5;21;01merr\u001b[39;00m\n\u001b[0;32m   3624\u001b[0m \u001b[38;5;28;01mexcept\u001b[39;00m \u001b[38;5;167;01mTypeError\u001b[39;00m:\n\u001b[0;32m   3625\u001b[0m     \u001b[38;5;66;03m# If we have a listlike key, _check_indexing_error will raise\u001b[39;00m\n\u001b[0;32m   3626\u001b[0m     \u001b[38;5;66;03m#  InvalidIndexError. Otherwise we fall through and re-raise\u001b[39;00m\n\u001b[0;32m   3627\u001b[0m     \u001b[38;5;66;03m#  the TypeError.\u001b[39;00m\n\u001b[0;32m   3628\u001b[0m     \u001b[38;5;28mself\u001b[39m\u001b[38;5;241m.\u001b[39m_check_indexing_error(key)\n",
      "\u001b[1;31mKeyError\u001b[0m: 'LDA'"
     ]
    }
   ],
   "source": [
    "# Calculate the number of topics per row\n",
    "risks['Topics'] = risks['LDA'].apply(lambda x: len(set(x.split(\", \"))))\n",
    "\n",
    "# Count total unique topics\n",
    "all_topics = set()\n",
    "risks['LDA'].apply(lambda x: all_topics.update(x.split(\", \")))\n",
    "total_unique_topics = len(all_topics)\n",
    "\n",
    "# Plotting the histogram\n",
    "plt.hist(risks['Topics'], bins=10, range=(0, total_unique_topics))\n",
    "plt.title('Histogram of Topic Counts per Document')\n",
    "plt.xlabel('Number of Topics')\n",
    "plt.ylabel('Number of Documents')\n",
    "plt.show()"
   ]
  },
  {
   "cell_type": "code",
   "execution_count": 4,
   "metadata": {},
   "outputs": [
    {
     "data": {
      "text/html": [
       "<div>\n",
       "<style scoped>\n",
       "    .dataframe tbody tr th:only-of-type {\n",
       "        vertical-align: middle;\n",
       "    }\n",
       "\n",
       "    .dataframe tbody tr th {\n",
       "        vertical-align: top;\n",
       "    }\n",
       "\n",
       "    .dataframe thead th {\n",
       "        text-align: right;\n",
       "    }\n",
       "</style>\n",
       "<table border=\"1\" class=\"dataframe\">\n",
       "  <thead>\n",
       "    <tr style=\"text-align: right;\">\n",
       "      <th></th>\n",
       "      <th>Company</th>\n",
       "      <th>Title</th>\n",
       "      <th>Year</th>\n",
       "      <th>Unique ID</th>\n",
       "      <th>Point</th>\n",
       "      <th>Info</th>\n",
       "      <th>Voyage_Embedding</th>\n",
       "    </tr>\n",
       "  </thead>\n",
       "  <tbody>\n",
       "    <tr>\n",
       "      <th>0</th>\n",
       "      <td>AEROFLEX INDUSTRIES LIMITED</td>\n",
       "      <td>PROSPECTUS</td>\n",
       "      <td>2023</td>\n",
       "      <td>U24110MH1993PLC074576</td>\n",
       "      <td>1</td>\n",
       "      <td>We export our products to various countries an...</td>\n",
       "      <td>[-0.03396444395184517, 0.03632692992687225, 0....</td>\n",
       "    </tr>\n",
       "    <tr>\n",
       "      <th>1</th>\n",
       "      <td>AEROFLEX INDUSTRIES LIMITED</td>\n",
       "      <td>PROSPECTUS</td>\n",
       "      <td>2023</td>\n",
       "      <td>U24110MH1993PLC074576</td>\n",
       "      <td>2</td>\n",
       "      <td>We in the usual course of business do not ente...</td>\n",
       "      <td>[-0.041801441460847855, 0.04750964790582657, 0...</td>\n",
       "    </tr>\n",
       "    <tr>\n",
       "      <th>2</th>\n",
       "      <td>AEROFLEX INDUSTRIES LIMITED</td>\n",
       "      <td>PROSPECTUS</td>\n",
       "      <td>2023</td>\n",
       "      <td>U24110MH1993PLC074576</td>\n",
       "      <td>3</td>\n",
       "      <td>Our business is dependent and will continue to...</td>\n",
       "      <td>[-0.051199257373809814, 0.042307816445827484, ...</td>\n",
       "    </tr>\n",
       "    <tr>\n",
       "      <th>3</th>\n",
       "      <td>AEROFLEX INDUSTRIES LIMITED</td>\n",
       "      <td>PROSPECTUS</td>\n",
       "      <td>2023</td>\n",
       "      <td>U24110MH1993PLC074576</td>\n",
       "      <td>4</td>\n",
       "      <td>Our Company requires significant amounts of wo...</td>\n",
       "      <td>[-0.05128634721040726, 0.015052865259349346, -...</td>\n",
       "    </tr>\n",
       "    <tr>\n",
       "      <th>4</th>\n",
       "      <td>AEROFLEX INDUSTRIES LIMITED</td>\n",
       "      <td>PROSPECTUS</td>\n",
       "      <td>2023</td>\n",
       "      <td>U24110MH1993PLC074576</td>\n",
       "      <td>5</td>\n",
       "      <td>We derive revenue from sale of number of produ...</td>\n",
       "      <td>[-0.037476375699043274, 0.038293495774269104, ...</td>\n",
       "    </tr>\n",
       "  </tbody>\n",
       "</table>\n",
       "</div>"
      ],
      "text/plain": [
       "                       Company       Title  Year              Unique ID  \\\n",
       "0  AEROFLEX INDUSTRIES LIMITED  PROSPECTUS  2023  U24110MH1993PLC074576   \n",
       "1  AEROFLEX INDUSTRIES LIMITED  PROSPECTUS  2023  U24110MH1993PLC074576   \n",
       "2  AEROFLEX INDUSTRIES LIMITED  PROSPECTUS  2023  U24110MH1993PLC074576   \n",
       "3  AEROFLEX INDUSTRIES LIMITED  PROSPECTUS  2023  U24110MH1993PLC074576   \n",
       "4  AEROFLEX INDUSTRIES LIMITED  PROSPECTUS  2023  U24110MH1993PLC074576   \n",
       "\n",
       "   Point                                               Info  \\\n",
       "0      1  We export our products to various countries an...   \n",
       "1      2  We in the usual course of business do not ente...   \n",
       "2      3  Our business is dependent and will continue to...   \n",
       "3      4  Our Company requires significant amounts of wo...   \n",
       "4      5  We derive revenue from sale of number of produ...   \n",
       "\n",
       "                                    Voyage_Embedding  \n",
       "0  [-0.03396444395184517, 0.03632692992687225, 0....  \n",
       "1  [-0.041801441460847855, 0.04750964790582657, 0...  \n",
       "2  [-0.051199257373809814, 0.042307816445827484, ...  \n",
       "3  [-0.05128634721040726, 0.015052865259349346, -...  \n",
       "4  [-0.037476375699043274, 0.038293495774269104, ...  "
      ]
     },
     "execution_count": 4,
     "metadata": {},
     "output_type": "execute_result"
    }
   ],
   "source": [
    "risks.head()"
   ]
  },
  {
   "cell_type": "code",
   "execution_count": null,
   "metadata": {},
   "outputs": [],
   "source": []
  }
 ],
 "metadata": {
  "kernelspec": {
   "display_name": "base",
   "language": "python",
   "name": "python3"
  },
  "language_info": {
   "codemirror_mode": {
    "name": "ipython",
    "version": 3
   },
   "file_extension": ".py",
   "mimetype": "text/x-python",
   "name": "python",
   "nbconvert_exporter": "python",
   "pygments_lexer": "ipython3",
   "version": "3.8.13"
  }
 },
 "nbformat": 4,
 "nbformat_minor": 2
}
