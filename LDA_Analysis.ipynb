{
 "cells": [
  {
   "cell_type": "code",
   "execution_count": null,
   "metadata": {},
   "outputs": [],
   "source": [
    "import numpy as np\n",
    "import pandas as pd\n",
    "from matplotlib import pyplot as plt"
   ]
  },
  {
   "cell_type": "code",
   "execution_count": null,
   "metadata": {},
   "outputs": [],
   "source": [
    "r1 = pd.read_csv('Input/Risk_Factors_Voyage_1.csv')\n",
    "r2 = pd.read_csv('Input/Risk_Factors_Voyage_2.csv')\n",
    "r3 = pd.read_csv('Input/Risk_Factors_Voyage_3.csv')\n",
    "risks = pd.concat([r1, r2, r3])\n",
    "risks.reset_index(drop=True, inplace=True)"
   ]
  },
  {
   "cell_type": "code",
   "execution_count": null,
   "metadata": {},
   "outputs": [],
   "source": [
    "# Calculate the number of topics per row\n",
    "risks['Topics'] = risks['LDA'].apply(lambda x: len(set(x.split(\", \"))))\n",
    "\n",
    "# Count total unique topics\n",
    "all_topics = set()\n",
    "risks['LDA'].apply(lambda x: all_topics.update(x.split(\", \")))\n",
    "total_unique_topics = len(all_topics)\n",
    "\n",
    "# Plotting the histogram\n",
    "plt.hist(risks['Topics'], bins=10, range=(0, total_unique_topics))\n",
    "plt.title('Histogram of Topic Counts per Document')\n",
    "plt.xlabel('Number of Topics')\n",
    "plt.ylabel('Number of Documents')\n",
    "plt.show()"
   ]
  },
  {
   "cell_type": "code",
   "execution_count": null,
   "metadata": {},
   "outputs": [],
   "source": []
  }
 ],
 "metadata": {
  "kernelspec": {
   "display_name": "base",
   "language": "python",
   "name": "python3"
  },
  "language_info": {
   "codemirror_mode": {
    "name": "ipython",
    "version": 3
   },
   "file_extension": ".py",
   "mimetype": "text/x-python",
   "name": "python",
   "nbconvert_exporter": "python",
   "pygments_lexer": "ipython3",
   "version": "3.8.13"
  }
 },
 "nbformat": 4,
 "nbformat_minor": 2
}
